{
 "cells": [
  {
   "cell_type": "markdown",
   "metadata": {
    "application/vnd.databricks.v1+cell": {
     "cellMetadata": {
      "byteLimit": 2048000,
      "rowLimit": 10000
     },
     "inputWidgets": {},
     "nuid": "0186a894-e513-41c1-af6d-76e8e21a0a85",
     "showTitle": false,
     "title": ""
    },
    "id": "0Gcod7eY8ZF7"
   },
   "source": [
    "In this notebook, I have a series of cells containing different functions that produce different graphs using a csv file containing timestamps every 30 minutes from July 2022 to June 2023, with different readings such as solar generation, wind generation and battery storage.\n",
    "\n",
    "The first thing I did was define the dataframe *df* using the provided csv file.\n",
    "\n",
    "I have imported 5 libraries:\n",
    "\n",
    "\n",
    "*   *pandas*, to read the data\n",
    "*   *matplotlib.pyplot* and *matplotlib* to produce the graphs\n",
    "*   *calendar*, to convert selected_month from a number to its corresponding month\n",
    "*   *numpy* to define the x axes in my last function\n",
    "\n",
    "I asked ChatGPT how I could produce a graph using an Excel Spreadsheet with dates and times and readings. ChatGPT responded telling me to import *pandas* and *matplotlib*.\n",
    "\n",
    "Later on, I wanted to convert a number from 1-12 to the month name(e.g. 3 -> March), so I went on stackoverflow and found a solution that required importing *calendar*.\n",
    "\n",
    "Finally, in my last function, I ran into an issue with my x axis, so I used numpy to define my x axis attributes."
   ]
  },
  {
   "cell_type": "code",
   "execution_count": 0,
   "metadata": {
    "application/vnd.databricks.v1+cell": {
     "cellMetadata": {
      "byteLimit": 2048000,
      "rowLimit": 10000
     },
     "inputWidgets": {},
     "nuid": "1b6dbb38-a79c-4a5a-9a20-da3db069d331",
     "showTitle": false,
     "title": ""
    }
   },
   "outputs": [],
   "source": [
    "import pandas as pd\n",
    "import matplotlib.pyplot as plt\n",
    "import matplotlib\n",
    "import calendar\n",
    "import numpy as np\n",
    "\n",
    "df = pd.read_csv(\"/dbfs/FileStore/pidata_anon.csv\")\n",
    "df['timestamp'] = pd.to_datetime(df['timestamp'])"
   ]
  },
  {
   "cell_type": "code",
   "execution_count": 0,
   "metadata": {
    "application/vnd.databricks.v1+cell": {
     "cellMetadata": {
      "byteLimit": 2048000,
      "rowLimit": 10000
     },
     "inputWidgets": {},
     "nuid": "9e531cc9-ad49-4af8-a4fc-d951b29e5c79",
     "showTitle": false,
     "title": ""
    },
    "colab": {
     "base_uri": "https://localhost:8080/",
     "height": 524
    },
    "id": "QAWzzNxbNwz2",
    "outputId": "a2a46951-a2fd-4b35-a787-a539649b6b5d"
   },
   "outputs": [],
   "source": [
    "#function not currently being used\n",
    "def columns():\n",
    "  columns_to_plot = []\n",
    "  add_item = -1\n",
    "  while True:\n",
    "        add_item = input(\"Add a data reading of your choice. Enter '0' to exit.\")\n",
    "        if add_item == '0':\n",
    "            break\n",
    "        columns_to_plot.append(add_item)\n",
    "  return columns_to_plot\n",
    "#end of function\n",
    "\n",
    "def month_reading(df, columns_to_plot, selected_month):\n",
    "\n",
    "\n",
    "  df_filter = df[df['timestamp'].dt.month == selected_month]\n",
    "\n",
    "\n",
    "  for column in columns_to_plot:\n",
    "    plt.plot(df_filter['timestamp'], df_filter[column], label=column)\n",
    "\n",
    "  plt.xlabel('Date and Time')\n",
    "  plt.ylabel('Readings,MW')\n",
    "  plt.title('Readings')\n",
    "  plt.legend()\n",
    "  plt.xticks(rotation=45)\n",
    "  plt.show(block=True)\n",
    "\n",
    "\n",
    "\n",
    "month_reading(df,['wind1'], 3)\n",
    "\n",
    "\n",
    "\n"
   ]
  },
  {
   "cell_type": "markdown",
   "metadata": {
    "application/vnd.databricks.v1+cell": {
     "cellMetadata": {
      "byteLimit": 2048000,
      "rowLimit": 10000
     },
     "inputWidgets": {},
     "nuid": "d7e5b11d-7738-46dc-9619-2a55fcec840d",
     "showTitle": false,
     "title": ""
    },
    "id": "MnsMUSx09QIF"
   },
   "source": [
    "1.The objective of the first function *month_reading()* is to produce a graph that takes a reading(s) and filters the dataframe to show readings from one selected month. For example, the graph can show solar generation from *pv1* across the month of July.\n",
    "\n",
    "\n",
    "The program takes 3 arguments into the function *month_reading()*\n",
    "\n",
    "\n",
    "*   *df* is the csv file\n",
    "*   *columns_to_plot* is the reading(s) that the function will generate on the graph\n",
    "*   *selected_month* is the month (1-12) that the function takes readings from df to produce a graph\n",
    "\n",
    "When first asking ChatGPT to produce a graph, it told me how to plot the graph using the line;\n",
    "\n",
    ">plt.plot(filtered_data['timestamp'], filtered_data[column], label=column)\n",
    "\n",
    "which I then put within a for loop to loop through different elements in *columns_to_plot*.\n",
    "\n",
    "ChatGPT also produced the following lines which format the graph's x and y axes as well as giving the graph a title and other attributes.\n",
    "\n",
    ">plt.xlabel('Date and Time')  \n",
    "\n",
    ">plt.ylabel('Readings,MW')\n",
    "\n",
    ">plt.title('Readings')\n",
    "  \n",
    ">plt.legend()\n",
    "  \n",
    ">plt.xticks(rotation=45)\n",
    "  \n",
    ">plt.show(block=True)\n",
    "\n",
    "\n",
    "I then ran into a problem where the data couldn't be read unless they were datetimelike values, so I asked ChatGPT to solve this issue, and it returned me this line;\n",
    "\n",
    ">df['timestamp'] = pd.to_datetime(df['timestamp'])\n",
    "\n",
    "Finally, I asked ChatGPT how to filter *df* to only give me readings for 1 month, so I was able to implement the following line;\n",
    "\n",
    "> filtered_data = df[df['timestamp'].dt.month == selected_month]\n",
    "\n",
    "After that, it was a matter of making sure the function takes the inputs correctly and producing the correct graph.\n",
    "\n",
    "\n",
    "Using this function for *pv2* for example shows a line that goes up and down continuously. This indicates that the generation goes high during the day and low during night, which is correct because solar generation relies on sunlight.\n",
    "\n",
    "\n",
    "I also made a function *columns()* which allows the user to select which readings they want the graph to show, but I decided to not use it for the time being because changing the argument myself is faster."
   ]
  },
  {
   "cell_type": "code",
   "execution_count": 0,
   "metadata": {
    "application/vnd.databricks.v1+cell": {
     "cellMetadata": {
      "byteLimit": 2048000,
      "rowLimit": 10000
     },
     "inputWidgets": {},
     "nuid": "bd90edd7-4438-42fb-8966-80d2ffc7bec4",
     "showTitle": false,
     "title": ""
    },
    "colab": {
     "base_uri": "https://localhost:8080/",
     "height": 472
    },
    "id": "Ql9bQv4sUuqT",
    "outputId": "6b14f818-4119-44b8-d71f-49d9fdc80659"
   },
   "outputs": [],
   "source": [
    "##df = pd.read_csv(\"/dbfs/FileStore/pidata_anon.csv\")\n",
    "##df['timestamp'] = pd.to_datetime(df['timestamp'])\n",
    "\n",
    "def year_round_reading(df,columns_to_plot):\n",
    "  df['month'] = df['timestamp'].dt.month\n",
    "  mean_readings = df.groupby('month')[columns_to_plot].mean()\n",
    "\n",
    "  mean_readings.plot(kind='line')\n",
    "  plt.xlabel('Month')\n",
    "  plt.ylabel('Mean Readings, MW')\n",
    "  plt.title('Mean Readings for Each Month')\n",
    "  plt.xticks(rotation=0)\n",
    "  plt.show()\n",
    "\n",
    "year_round_reading(df,['pv2'])"
   ]
  },
  {
   "cell_type": "markdown",
   "metadata": {
    "application/vnd.databricks.v1+cell": {
     "cellMetadata": {
      "byteLimit": 2048000,
      "rowLimit": 10000
     },
     "inputWidgets": {},
     "nuid": "b7707e20-2689-46a7-b570-3f00aca9565b",
     "showTitle": false,
     "title": ""
    },
    "id": "nrG47XoyFu6I"
   },
   "source": [
    "2.The objective of the second function *year_round_reading()* is to take an element *(columns_to_plot)* as an argument as well as *df* and show how the readings change from January to December.\n",
    "\n",
    "This is a more useful representation of the data because not a lot will change throughout a month except the changes between day and night, but using the whole year can show us major differences that happen, typically in the winter months like January and Decemeber, and in the summer months, like June and July.\n",
    "\n",
    "The most obvious indication of this is using the element *pv2*, which shows us that solar generation peaks at around 45MW in June, and drops to as low as 8MW in December, where the sunlight isn't as strong and daylight is shorter.\n",
    "\n",
    "Firstly, I reused the code from my previous function to display the graph's axes and title, and changed the names according to what the graph is being used for.\n",
    "\n",
    "I then had to create a new column for the month of the year that each reading belongs to;\n",
    "\n",
    ">df['month'] = df['timestamp'].dt.month\n",
    "\n",
    "that way I could take a mean reading for each month, group them together using *df.groupby()* and plot the graph.\n",
    "\n",
    ">mean_readings = df.groupby('month')[columns_to_plot].mean()"
   ]
  },
  {
   "cell_type": "code",
   "execution_count": 0,
   "metadata": {
    "application/vnd.databricks.v1+cell": {
     "cellMetadata": {
      "byteLimit": 2048000,
      "rowLimit": 10000
     },
     "inputWidgets": {},
     "nuid": "08c87033-25fe-42b6-aa34-506244417ea1",
     "showTitle": false,
     "title": ""
    },
    "colab": {
     "base_uri": "https://localhost:8080/",
     "height": 472
    },
    "id": "dg1Wx848klix",
    "outputId": "a4da7eb9-cfaa-4f75-c334-24c67b683fc5"
   },
   "outputs": [],
   "source": [
    "\n",
    "def day_profile(df,selected_month,columns_to_plot):\n",
    "\n",
    "    df['hour'] = df['timestamp'].dt.hour\n",
    "    df_filter = df[df['timestamp'].dt.month == selected_month]\n",
    "    hourly_avg_readings = df_filter.groupby('hour')[columns_to_plot].mean()\n",
    "    hourly_avg_readings.plot(kind='line')\n",
    "\n",
    "\n",
    "\n",
    "    plt.xlabel('Time')\n",
    "    plt.ylabel('Mean Readings, MW')\n",
    "    plt.title(f'Mean Day Profile for {calendar.month_name[selected_month]}')\n",
    "    plt.xticks(range(24))\n",
    "    plt.legend()\n",
    "    plt.show()\n",
    "\n",
    "day_profile(df,1,['pv2'])"
   ]
  },
  {
   "cell_type": "markdown",
   "metadata": {
    "application/vnd.databricks.v1+cell": {
     "cellMetadata": {
      "byteLimit": 2048000,
      "rowLimit": 10000
     },
     "inputWidgets": {},
     "nuid": "640401f2-b353-415a-9199-d03d4aa7274a",
     "showTitle": false,
     "title": ""
    }
   },
   "source": [
    "3.The third function *day_profile()* shows the mean day profile for a selected month and has three arguments:\n",
    "> *selected_month* that dictates which month's readings are used in the graph\n",
    "\n",
    "> *columns_to_plot* which dictates which readings are plotted in the graph\n",
    "\n",
    ">*df* - the dataframe\n",
    "\n",
    "To make a day profile, I made a new column hour assigns each reading to its hour.\n",
    "\n",
    "I then used the same logic from the first function to filter the dataframe to only the readings from the selected month.\n",
    "\n",
    "Finally, I grouped the readings together using *groupby()* and plotted the graph with the same lines of code from other functions.\n",
    "\n",
    "Using this function with *pv2* for July shows us that generation peaks around midday and drops to its lowest around midnight. This shows us that peak generation occurs when the sunlight is strongest, which is at midday, and lowest generation occurs when there is no sunlight, so during the night.\n",
    "\n",
    "Using this function with *storage1* in January shows a high peak around 5pm. This means that the battery is exporting most of its energy around this time. This is because around 5 to 6pm is when a lot of people are using a lot of electricity through EVs and devices at home. Therefore, if the demand is high, the cost of electricity increases, so the batteries start exporting their energy. On the other hand, at 4am, the reading is at its lowest. The negative reading indicates that the batteries are storing energy. This is because at 4am, there is a much smaller demand for energy because most people are sleeping and not using any electricity. Therefore, the cost of electricity is low, so the batteries store the energy until the cost of electricity rises."
   ]
  },
  {
   "cell_type": "code",
   "execution_count": 0,
   "metadata": {
    "application/vnd.databricks.v1+cell": {
     "cellMetadata": {
      "byteLimit": 2048000,
      "rowLimit": 10000
     },
     "inputWidgets": {},
     "nuid": "2043ae75-165d-42d8-962c-20f328fd914e",
     "showTitle": false,
     "title": ""
    },
    "colab": {
     "base_uri": "https://localhost:8080/",
     "height": 573
    },
    "id": "d9b48Y0iATYL",
    "outputId": "7a0d5347-a761-4c99-b470-6f579503d144"
   },
   "outputs": [],
   "source": [
    "##df = pd.read_csv(\"/dbfs/FileStore/pidata_anon.csv\")\n",
    "##df['timestamp'] = pd.to_datetime(df['timestamp'])\n",
    "def day_profile_12(df,columns_to_plot):    \n",
    "    df['hour'] = df['timestamp'].dt.hour\n",
    "    colors = ['blue', 'red', 'green', 'purple', 'orange', 'cyan', 'magenta', 'brown', 'pink', 'gray','lime','black']\n",
    "    for selected_month in range(1,13):\n",
    "        df_filter = df[df['timestamp'].dt.month == selected_month]\n",
    "        hourly_avg_readings = df_filter.groupby('hour')[columns_to_plot].mean()\n",
    "        for column in columns_to_plot:\n",
    "            plt.plot(hourly_avg_readings.index, hourly_avg_readings[column], color = colors[selected_month-1] , label=f'{calendar.month_name[selected_month]}')\n",
    "        \n",
    "    plt.xlabel('Time')\n",
    "    plt.ylabel(f'Mean {column} ,MW')\n",
    "    plt.title(f'Mean {column} day profile for each month')\n",
    "    plt.xticks(range(24))\n",
    "    plt.legend(loc='center', bbox_to_anchor=(0.5, -0.3), frameon=True, ncol = 4)\n",
    "    plt.show()\n",
    "\n",
    "day_profile_12(df,['wind1'])"
   ]
  },
  {
   "cell_type": "markdown",
   "metadata": {
    "application/vnd.databricks.v1+cell": {
     "cellMetadata": {
      "byteLimit": 2048000,
      "rowLimit": 10000
     },
     "inputWidgets": {},
     "nuid": "f3d4768e-6ff4-411b-be96-e8213c01876a",
     "showTitle": false,
     "title": ""
    }
   },
   "source": [
    "4.The fourth function *day_profile_12()* is similar to the previous function, but displays every single month onto 1 graph, rather than just 1 selected month.\n",
    "\n",
    "The function has 2 arguments; *columns_to_plot()* which the function uses to plot the graph with the chosen reading(s), and *df*.\n",
    "\n",
    "The code is very similar to the previous function, but I incorporated a for loop, that loops selected_month from 1 to 12(inclusive) and produces a plot for each month.\n",
    "\n",
    "I also customised the legend to be easier to read and not obstruct the graph, which was done with this line;\n",
    "\n",
    ">plt.legend(loc='center', bbox_to_anchor=(0.5, -0.3), frameon=True, ncol = 4)\n",
    "\n",
    "matplotlib only uses 10 colours by default, and I wanted to have each line be a different colour, so I made an array *colors* that uses the *selected_month* counter to loop through the array and use a different colour for each line. I also made sure to -1 from the counter when using *colors* because *selected_month* starts from index 1 whilst colors starts from index 0.\n",
    "\n",
    "Using the element *pv2* we can see that the months June and July have the highest peaks, indicating that the sunlight is strongest in those months, so generation is at its highest. Furthermore, the same months reach close to 0MW at a later time (7-8pm) indicating that the sunlight is not only stronger, but lasts longer. This shows us that solar generation is highest in summer because of the stronger sunlight and longer days. We can also see December has by far the lowest peak reading, which suggests that the winter has the weakest sunlight, and the reading also drops to near 0MW much earlier(around 3pm), which suggests that the day is much shorter in winter than summer. However, regardless of the time of year, the peak reading always seems to be around 11am-12pm and the readings drop to near 0MW during the night.\n",
    "\n",
    "We can also plot storage1, which shows a similar pattern to the previous function. This time round, the months seem to be closer to one another, however the winter months have stronger spikes in the early morning and late afternoon. This is because there is less solar generation in the winter months and the temperatures are colder, so costs of electricity are higher because demand is higher and generation is smaller. Therefore, the batteries store more energy in the night and release the energy in the afternoon. However, in summer, the costs of electricity don't change as much, so farms are less incentivised to store and sell energy to make profits."
   ]
  },
  {
   "cell_type": "code",
   "execution_count": 0,
   "metadata": {
    "application/vnd.databricks.v1+cell": {
     "cellMetadata": {
      "byteLimit": 2048000,
      "rowLimit": 10000
     },
     "inputWidgets": {},
     "nuid": "fec48ab9-ef7e-4ef0-a28b-082e8186a52c",
     "showTitle": false,
     "title": ""
    },
    "colab": {
     "base_uri": "https://localhost:8080/",
     "height": 1000
    },
    "id": "-NzsoavEbkXj",
    "outputId": "8184e1ae-4838-43f4-f8a9-beb0f1f88d27"
   },
   "outputs": [],
   "source": [
    "def day_profile_subplots(df,columns_to_plot):    \n",
    "    df['hour'] = df['timestamp'].dt.hour\n",
    "    #df['hh'] = df['timestamp'].dt.strftime(\"%H%M\")\n",
    "    colors = ['blue', 'red', 'green', 'purple', 'orange', 'cyan', 'magenta', 'brown', 'pink', 'gray','lime','black']\n",
    "\n",
    "    fig,axes = plt.subplots(3,4, figsize=(20, 15), sharex=False,sharey=True)\n",
    "    axes = axes.flatten()\n",
    "    plt.subplots_adjust(hspace=0.5, wspace=0.3)\n",
    "\n",
    "\n",
    "    for selected_month in range(1,13):\n",
    "        df_filter = df[df['timestamp'].dt.month == selected_month]\n",
    "        hourly_avg_readings = df_filter.groupby('hour')[columns_to_plot].mean()\n",
    "        for column in columns_to_plot:\n",
    "            ax = axes[selected_month - 1]\n",
    "            ax.plot(hourly_avg_readings.index, hourly_avg_readings[column], color = colors[selected_month-1] , label=f'{calendar.month_name[selected_month]}')\n",
    "            ax.set_title(f'{columns_to_plot} - {calendar.month_name[selected_month]}')\n",
    "            ax.set_xlabel('Hour of the Day')\n",
    "            ax.set_ylabel('Average Readings, MW')\n",
    "            ax.set_xticks([0, 6, 12, 18])\n",
    "            # ax.set_ylim(-5,5)\n",
    "            ax.yaxis.set_tick_params(labelbottom=True)\n",
    "            ax.legend()\n",
    "\n",
    "    fig.suptitle(\"Day Profile for each month\")\n",
    "\n",
    "day_profile_subplots(df,['wind1'])"
   ]
  },
  {
   "cell_type": "markdown",
   "metadata": {
    "application/vnd.databricks.v1+cell": {
     "cellMetadata": {
      "byteLimit": 2048000,
      "rowLimit": 10000
     },
     "inputWidgets": {},
     "nuid": "98fe0d14-18b4-4656-8eca-4c0f79a7c36a",
     "showTitle": false,
     "title": ""
    }
   },
   "source": [
    "5.The fifth function *day_profile_subplots()* does the same thing as the previous function but rather than displaying 12 plots on one graph, each plot has its own graph in  a 4x3 formation. Once again, the function has the arguments *columns_to_plot* and *df*\n",
    "\n",
    "I first asked ChatGPT on how I could produce 12 graphs in a 4x3 formation, and I got a response saying to use the *subplots()* function. Specifically, ChatGPT gave me these 3 lines;\n",
    "\n",
    ">fig,axes = plt.subplots(3,4, figsize=(20, 15), sharex=False,sharey=True)\n",
    "\n",
    ">axes = axes.flatten()\n",
    "\n",
    ">plt.subplots_adjust(hspace=0.5, wspace=0.3)\n",
    "\n",
    "The first line specifies the size and dimensions of the graphs and the attributes of the axes. The next line converts axes from a 2D to 1D list, which makes it easier to loop through. The third line changes the spacing horizontally and vertically between each graph.\n",
    "\n",
    "Chat GPT also gave me the following line that makes sure there isn't an index error;\n",
    "\n",
    ">ax = axes[selected_month - 1]\n",
    "\n",
    "In previous functions, I used *plt.* for lines of code responsible for producing each graph. However, now that I'm producing several graphs in one execution, ChatGPT informed me to use *ax.* which would ensure that each iteration of the for loop produces a different graph.\n",
    "\n",
    "I wanted the y axis to have the same ticks (i.e 0,10,20,30,40), which *sharey = True* does, but only the 3 graphs on the left hand side would have labelled ticks. This line made sure every graph had labelled ticks while ensuring all the ticks were the same.\n",
    "\n",
    ">ax.yaxis.set_tick_params(labelbottom=True)\n",
    "\n",
    "Using *fig.suptitle()*, I gave the subplots a title too.\n",
    "\n",
    "With this function, we can obtain the same conclusions from the previous function, such as solar generation being higher in the summer months, but this graph makes each individual month easier to read and understand."
   ]
  },
  {
   "cell_type": "code",
   "execution_count": 0,
   "metadata": {
    "application/vnd.databricks.v1+cell": {
     "cellMetadata": {
      "byteLimit": 2048000,
      "rowLimit": 10000
     },
     "inputWidgets": {},
     "nuid": "ef965483-3c8e-4720-a329-7ee52ccd9971",
     "showTitle": false,
     "title": ""
    }
   },
   "outputs": [],
   "source": [
    "def day_profile_everyday(df,selected_month,columns_to_plot):\n",
    "\n",
    "    df['hour'] = df['timestamp'].dt.hour\n",
    "    df['day'] = df['timestamp'].dt.day\n",
    "   \n",
    "    df_filter_month = df[df['timestamp'].dt.month == selected_month]\n",
    "\n",
    "    for day_number in range(1, (calendar.monthrange(2023,selected_month)[1])+1):\n",
    "        df_filter_day = df_filter_month[df_filter_month['timestamp'].dt.day == day_number]\n",
    "        for column in columns_to_plot:\n",
    "            plt.plot(np.linspace(0,23.5,num= 48),df_filter_day[column],alpha = 0.35,color = 'grey',linewidth = 0.75)\n",
    "\n",
    "    hourly_avg_readings = df_filter_month.groupby('hour')[columns_to_plot].mean()\n",
    "    hourly_avg_readings.plot(kind='line',linewidth = 4, ax=plt.gca())\n",
    "\n",
    "    plt.xlabel('Time')\n",
    "    plt.ylabel('Mean Readings, MW')\n",
    "    plt.title(f'Mean Day Profile for {calendar.month_name[selected_month]}')\n",
    "    plt.xticks(range(24))\n",
    "    #plt.xlim([6,18])\n",
    "    plt.legend()\n",
    "    plt.show()\n",
    "\n",
    "day_profile_everyday(df,11,['wind1'])"
   ]
  },
  {
   "cell_type": "markdown",
   "metadata": {
    "application/vnd.databricks.v1+cell": {
     "cellMetadata": {
      "byteLimit": 2048000,
      "rowLimit": 10000
     },
     "inputWidgets": {},
     "nuid": "7748ca99-e667-4069-875d-270fb1d55077",
     "showTitle": false,
     "title": ""
    }
   },
   "source": [
    "6.This final function, *day_profile_everyday()* shows an opaque line plot for every day's day profile within a month, and then also displays a thicker line that shows a mean of all the other lines.\n",
    "The function has 3 arguments:\n",
    "\n",
    "*  *df*\n",
    "*  *selected_month*\n",
    "*  *columns_to_plot*\n",
    "\n",
    "In order to plot 28-31 lines, I used a for loop, looping from 1 to however many days were in the selected month, which I did using *calendar.monthrange(2023,selected_month)[1]* to make sure the loop only iterates the exact amount of times it needs to, regardless of the month.\n",
    "\n",
    "To loop through each day, I filtered *df* to only the required month in *df_filter_month*, and then in each iteration , I filtered *df_filter_month* to only the readings from the required day into *df_filter_day*.\n",
    "\n",
    "To make the day profile lines less significant in appearance, I used *alpha = 0.35* and *linewidth = 0.75* to make the lines more opaque and thinner respectively. Similarly, to make the mean line more visible, I made the line width much higher.\n",
    "\n",
    "I then had to import *numpy* and use *numpy.linspace(0,23.5,num = 48)* in order to properly define the x axis attributes.\n",
    "\n",
    "*  *0* is the first value\n",
    "*  *23.5* is the last value\n",
    "*  *num = 48* is the number of readings (2 per hour)\n",
    "\n",
    "Finally, because I plotted the 28-31 lines seperately from the mean line, they shared different axes, and thus were plotted on seperate graphs. Therefore, to make sure they had the same axes and could be plotted in one graph together, I used *ax=plt.gca()* where *gca* means 'get current axis'.\n",
    "\n",
    "Using this function for *pv2* or *storage1* for example shows us that day to day the trend is very similar and not much changes within a single month. However, if we plot wind1, we can see that wind generation is much less predictable as it is much more dependant on environmental factors, so the wind forecasts may be less predictable and insightful."
   ]
  }
 ],
 "metadata": {
  "application/vnd.databricks.v1+notebook": {
   "dashboards": [],
   "language": "python",
   "notebookMetadata": {
    "pythonIndentUnit": 4
   },
   "notebookName": "Data_Python_Project",
   "widgets": {}
  },
  "colab": {
   "provenance": []
  },
  "kernelspec": {
   "display_name": "Python 3",
   "name": "python3"
  },
  "language_info": {
   "name": "python"
  }
 },
 "nbformat": 4,
 "nbformat_minor": 0
}
